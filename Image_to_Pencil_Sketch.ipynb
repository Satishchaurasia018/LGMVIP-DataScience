{
  "nbformat": 4,
  "nbformat_minor": 0,
  "metadata": {
    "colab": {
      "name": "Image to Pencil Sketch",
      "private_outputs": true,
      "provenance": [],
      "authorship_tag": "ABX9TyOmttArBGYmR1YCFPgY/bHg",
      "include_colab_link": true
    },
    "kernelspec": {
      "name": "python3",
      "display_name": "Python 3"
    },
    "language_info": {
      "name": "python"
    }
  },
  "cells": [
    {
      "cell_type": "markdown",
      "metadata": {
        "id": "view-in-github",
        "colab_type": "text"
      },
      "source": [
        "<a href=\"https://colab.research.google.com/github/Satishchaurasia018/LGMVIP-DataScience/blob/main/Image_to_Pencil_Sketch.ipynb\" target=\"_parent\"><img src=\"https://colab.research.google.com/assets/colab-badge.svg\" alt=\"Open In Colab\"/></a>"
      ]
    },
    {
      "cell_type": "markdown",
      "metadata": {
        "id": "fv2D__FaHbJH"
      },
      "source": [
        "# **LetsGrowMore**\n",
        "\n",
        "Name: Satish Kumar\n",
        "\n",
        "Project Name: Image to Pencil Sketch\n",
        "\n",
        "Task Level: Beginner \n",
        "\n",
        "About bold text: We need to read the image in RBG format and then convert it to a grayscale image. This will turn an image into a classic black and white photo. Then the next thing to do is invert the grayscale image also called negative image, this will be our inverted grayscale image. Inversion can be used to enhance details. Then we can finally create the pencil sketch by mixing the grayscale image with the inverted blurry image. This can be done by dividing the grayscale image by the inverted blurry image. Since images are just arrays, we can easily do this programmatically using the divide function from the cv2 library in Python\n"
      ]
    },
    {
      "cell_type": "code",
      "metadata": {
        "id": "TF2-8Y7XsAdx"
      },
      "source": [
        "from google.colab.patches import cv2_imshow"
      ],
      "execution_count": null,
      "outputs": []
    },
    {
      "cell_type": "code",
      "metadata": {
        "id": "fkhVNPGnsHVO"
      },
      "source": [
        "import cv2\n",
        "import matplotlib.pyplot as plt"
      ],
      "execution_count": null,
      "outputs": []
    },
    {
      "cell_type": "code",
      "metadata": {
        "id": "gX5YKznUsLAE"
      },
      "source": [
        "image = cv2.imread('/content/Nature.jpg')"
      ],
      "execution_count": null,
      "outputs": []
    },
    {
      "cell_type": "code",
      "metadata": {
        "id": "JkaOrsb7sjEZ"
      },
      "source": [
        "cv2_imshow(image)\n",
        "cv2.waitKey(0)"
      ],
      "execution_count": null,
      "outputs": []
    },
    {
      "cell_type": "code",
      "metadata": {
        "id": "ht34h6avstwJ"
      },
      "source": [
        "gray_image = cv2.cvtColor(image, cv2.COLOR_BGR2GRAY)\n",
        "cv2_imshow(gray_image)\n",
        "cv2.waitKey(0)"
      ],
      "execution_count": null,
      "outputs": []
    },
    {
      "cell_type": "code",
      "metadata": {
        "id": "Vqm7LWNfD0-q"
      },
      "source": [
        "inverted_image = 255 - gray_image\n",
        "cv2_imshow(inverted_image)\n",
        "cv2.waitKey(0)"
      ],
      "execution_count": null,
      "outputs": []
    },
    {
      "cell_type": "code",
      "metadata": {
        "id": "Mr2Fmr89EL0x"
      },
      "source": [
        "blurred = cv2.GaussianBlur(inverted_image, (21, 21), 0)\n",
        "cv2_imshow(blurred)\n",
        "cv2.waitKey(0)"
      ],
      "execution_count": null,
      "outputs": []
    },
    {
      "cell_type": "code",
      "metadata": {
        "id": "UcFbGHzwEfx-"
      },
      "source": [
        "Inverted_blurred = 255 - blurred\n",
        "pencil_sketch = cv2.divide(gray_image, inverted_image, scale=256.0)\n",
        "cv2_imshow(pencil_sketch)\n",
        "cv2.waitKey(0)"
      ],
      "execution_count": null,
      "outputs": []
    },
    {
      "cell_type": "code",
      "metadata": {
        "id": "rUTlIJ75GTR8"
      },
      "source": [
        "cv2_imshow(image)\n",
        "cv2_imshow(pencil_sketch)\n",
        "cv2.waitKey(0)"
      ],
      "execution_count": null,
      "outputs": []
    },
    {
      "cell_type": "markdown",
      "metadata": {
        "id": "cRPAdxslG3be"
      },
      "source": [
        "Thank You!!"
      ]
    }
  ]
}